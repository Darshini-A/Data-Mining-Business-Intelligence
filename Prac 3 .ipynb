{
  "nbformat": 4,
  "nbformat_minor": 0,
  "metadata": {
    "colab": {
      "provenance": [],
      "authorship_tag": "ABX9TyPvO7KNME4eelGkaOCy/mEg",
      "include_colab_link": true
    },
    "kernelspec": {
      "name": "python3",
      "display_name": "Python 3"
    },
    "language_info": {
      "name": "python"
    }
  },
  "cells": [
    {
      "cell_type": "markdown",
      "metadata": {
        "id": "view-in-github",
        "colab_type": "text"
      },
      "source": [
        "<a href=\"https://colab.research.google.com/github/Darshini-A/Data-Mining-and-Business-Intelligence/blob/main/Prac%203%20.ipynb\" target=\"_parent\"><img src=\"https://colab.research.google.com/assets/colab-badge.svg\" alt=\"Open In Colab\"/></a>"
      ]
    },
    {
      "cell_type": "code",
      "execution_count": 1,
      "metadata": {
        "colab": {
          "base_uri": "https://localhost:8080/"
        },
        "id": "830gyT8XyoaX",
        "outputId": "168eca1a-d0a8-4d8c-a245-a295a29bde57"
      },
      "outputs": [
        {
          "output_type": "stream",
          "name": "stdout",
          "text": [
            "      Name  Gender\n",
            "0  Jagroop    Male\n",
            "1  Praveen    Male\n",
            "2   Harjot  Female\n",
            "3    Pooja  Female\n",
            "4    Mohit    Male\n"
          ]
        }
      ],
      "source": [
        "import pandas as pd\n",
        "data = [[\"Jagroop\",\"Male\"],[\"Praveen\",\"Male\"],[\"Harjot\",\"Female\"],[\"Pooja\",\"Female\"],[\"Mohit\",\"Male\"]]\n",
        "\n",
        "data_frame = pd.DataFrame(data,columns=[\"Name\",\"Gender\"])\n",
        "print(data_frame)"
      ]
    },
    {
      "cell_type": "code",
      "source": [
        "cattobin = pd.get_dummies(data_frame[\"Gender\"])\n",
        "print(cattobin)"
      ],
      "metadata": {
        "colab": {
          "base_uri": "https://localhost:8080/"
        },
        "id": "lnkRcOZ4z9J8",
        "outputId": "b2c67fdb-9fa2-4e7c-a96b-10129b568ce0"
      },
      "execution_count": 2,
      "outputs": [
        {
          "output_type": "stream",
          "name": "stdout",
          "text": [
            "   Female  Male\n",
            "0       0     1\n",
            "1       0     1\n",
            "2       1     0\n",
            "3       1     0\n",
            "4       0     1\n"
          ]
        }
      ]
    },
    {
      "cell_type": "code",
      "source": [
        "result = pd.concat((cattobin,data_frame),axis=1)\n",
        "print(result)"
      ],
      "metadata": {
        "colab": {
          "base_uri": "https://localhost:8080/"
        },
        "id": "AkxomLu20TPa",
        "outputId": "c857b1e1-840f-4640-870e-abd12fe14e60"
      },
      "execution_count": 3,
      "outputs": [
        {
          "output_type": "stream",
          "name": "stdout",
          "text": [
            "   Female  Male     Name  Gender\n",
            "0       0     1  Jagroop    Male\n",
            "1       0     1  Praveen    Male\n",
            "2       1     0   Harjot  Female\n",
            "3       1     0    Pooja  Female\n",
            "4       0     1    Mohit    Male\n"
          ]
        }
      ]
    },
    {
      "cell_type": "code",
      "source": [
        "result = result.drop([\"Male\"],axis=1)\n",
        "print(result)"
      ],
      "metadata": {
        "colab": {
          "base_uri": "https://localhost:8080/"
        },
        "id": "Fstd0F1329SO",
        "outputId": "141e247f-9d83-47bd-e34e-416357265805"
      },
      "execution_count": 4,
      "outputs": [
        {
          "output_type": "stream",
          "name": "stdout",
          "text": [
            "   Female     Name  Gender\n",
            "0       0  Jagroop    Male\n",
            "1       0  Praveen    Male\n",
            "2       1   Harjot  Female\n",
            "3       1    Pooja  Female\n",
            "4       0    Mohit    Male\n"
          ]
        }
      ]
    },
    {
      "cell_type": "code",
      "source": [
        "result = result.drop([\"Gender\"],axis=1)\n",
        "print(result)"
      ],
      "metadata": {
        "colab": {
          "base_uri": "https://localhost:8080/"
        },
        "id": "G_qC6fXU3KSk",
        "outputId": "193b9f0c-0e0b-4675-b542-529e8672c598"
      },
      "execution_count": 5,
      "outputs": [
        {
          "output_type": "stream",
          "name": "stdout",
          "text": [
            "   Female     Name\n",
            "0       0  Jagroop\n",
            "1       0  Praveen\n",
            "2       1   Harjot\n",
            "3       1    Pooja\n",
            "4       0    Mohit\n"
          ]
        }
      ]
    },
    {
      "cell_type": "code",
      "source": [
        "finalresult = result.rename({\"Female\":\"Gender\"})\n",
        "print(finalresult)"
      ],
      "metadata": {
        "colab": {
          "base_uri": "https://localhost:8080/"
        },
        "id": "Kn86rBPT3Sr1",
        "outputId": "332bdca8-00c6-4b10-91d1-4d581df1c536"
      },
      "execution_count": 6,
      "outputs": [
        {
          "output_type": "stream",
          "name": "stdout",
          "text": [
            "   Female     Name\n",
            "0       0  Jagroop\n",
            "1       0  Praveen\n",
            "2       1   Harjot\n",
            "3       1    Pooja\n",
            "4       0    Mohit\n"
          ]
        }
      ]
    }
  ]
}