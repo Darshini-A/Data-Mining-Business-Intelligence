{
  "nbformat": 4,
  "nbformat_minor": 0,
  "metadata": {
    "colab": {
      "provenance": [],
      "authorship_tag": "ABX9TyPRDcn+/OuycqLNfFKEnBs7",
      "include_colab_link": true
    },
    "kernelspec": {
      "name": "python3",
      "display_name": "Python 3"
    },
    "language_info": {
      "name": "python"
    }
  },
  "cells": [
    {
      "cell_type": "markdown",
      "metadata": {
        "id": "view-in-github",
        "colab_type": "text"
      },
      "source": [
        "<a href=\"https://colab.research.google.com/github/Darshini-A/Data-Mining-and-Business-Intelligence/blob/main/Decision%20Tree%20.ipynb\" target=\"_parent\"><img src=\"https://colab.research.google.com/assets/colab-badge.svg\" alt=\"Open In Colab\"/></a>"
      ]
    },
    {
      "cell_type": "code",
      "execution_count": 2,
      "metadata": {
        "colab": {
          "base_uri": "https://localhost:8080/"
        },
        "id": "XVSZGdwqbBJF",
        "outputId": "057f3cc8-d586-4891-9972-68168ce4f14f"
      },
      "outputs": [
        {
          "output_type": "stream",
          "name": "stdout",
          "text": [
            "    Age  Experience  Rank Nationality   Go\n",
            "0    36          10     9          UK   NO\n",
            "1    42          12     4         USA   NO\n",
            "2    23           4     6           N   NO\n",
            "3    52           4     4         USA   NO\n",
            "4    43          21     8         USA  YES\n",
            "5    44          14     5          UK   NO\n",
            "6    66           3     7           N  YES\n",
            "7    35          14     9          UK  YES\n",
            "8    52          13     7           N  YES\n",
            "9    35           5     9           N  YES\n",
            "10   24           3     5         USA   NO\n",
            "11   18           3     7          UK  YES\n",
            "12   45           9     9          UK  YES\n"
          ]
        }
      ],
      "source": [
        "import pandas as pd\n",
        "data = pd.read_csv('/data.csv')\n",
        "print(data)"
      ]
    },
    {
      "cell_type": "code",
      "source": [
        "d = {'UK':0,'USA':1,'N':2}\n",
        "data['Nationality'] = data['Nationality'].map(d)\n",
        "d = {'NO':0,'YES':1}\n",
        "data['GO'] = data['Go'].map(d)\n",
        "print(data)"
      ],
      "metadata": {
        "colab": {
          "base_uri": "https://localhost:8080/"
        },
        "id": "hek1eodNbV3y",
        "outputId": "62c4bc84-4795-4ee3-f6c0-c754ef9b3d09"
      },
      "execution_count": 3,
      "outputs": [
        {
          "output_type": "stream",
          "name": "stdout",
          "text": [
            "    Age  Experience  Rank  Nationality   Go  GO\n",
            "0    36          10     9            0   NO   0\n",
            "1    42          12     4            1   NO   0\n",
            "2    23           4     6            2   NO   0\n",
            "3    52           4     4            1   NO   0\n",
            "4    43          21     8            1  YES   1\n",
            "5    44          14     5            0   NO   0\n",
            "6    66           3     7            2  YES   1\n",
            "7    35          14     9            0  YES   1\n",
            "8    52          13     7            2  YES   1\n",
            "9    35           5     9            2  YES   1\n",
            "10   24           3     5            1   NO   0\n",
            "11   18           3     7            0  YES   1\n",
            "12   45           9     9            0  YES   1\n"
          ]
        }
      ]
    },
    {
      "cell_type": "code",
      "source": [
        "features = ['Age','Experience','Rank','Nationality']\n",
        "x = data[features]\n",
        "y = data['GO']\n",
        "print(x)\n",
        "print(y)"
      ],
      "metadata": {
        "colab": {
          "base_uri": "https://localhost:8080/"
        },
        "id": "lc8xd5TIeE5Q",
        "outputId": "42caa876-5771-419b-d51a-0c06f932cb33"
      },
      "execution_count": 4,
      "outputs": [
        {
          "output_type": "stream",
          "name": "stdout",
          "text": [
            "    Age  Experience  Rank  Nationality\n",
            "0    36          10     9            0\n",
            "1    42          12     4            1\n",
            "2    23           4     6            2\n",
            "3    52           4     4            1\n",
            "4    43          21     8            1\n",
            "5    44          14     5            0\n",
            "6    66           3     7            2\n",
            "7    35          14     9            0\n",
            "8    52          13     7            2\n",
            "9    35           5     9            2\n",
            "10   24           3     5            1\n",
            "11   18           3     7            0\n",
            "12   45           9     9            0\n",
            "0     0\n",
            "1     0\n",
            "2     0\n",
            "3     0\n",
            "4     1\n",
            "5     0\n",
            "6     1\n",
            "7     1\n",
            "8     1\n",
            "9     1\n",
            "10    0\n",
            "11    1\n",
            "12    1\n",
            "Name: GO, dtype: int64\n"
          ]
        }
      ]
    },
    {
      "cell_type": "code",
      "source": [
        "from sklearn import tree\n",
        "from sklearn.tree import DecisionTreeClassifier\n",
        "import matplotlib.pyplot as pyplot\n",
        "\n",
        "dtree = DecisionTreeClassifier()\n",
        "dtree = dtree.fit(x,y)\n",
        "print(dtree)"
      ],
      "metadata": {
        "colab": {
          "base_uri": "https://localhost:8080/"
        },
        "id": "GrXS1MB8e6TM",
        "outputId": "8f11fb07-b42b-436a-f8fb-9db435fead7d"
      },
      "execution_count": 5,
      "outputs": [
        {
          "output_type": "stream",
          "name": "stdout",
          "text": [
            "DecisionTreeClassifier()\n"
          ]
        }
      ]
    },
    {
      "cell_type": "code",
      "source": [
        "tree.plot_tree(dtree, feature_names = features)"
      ],
      "metadata": {
        "colab": {
          "base_uri": "https://localhost:8080/",
          "height": 376
        },
        "id": "qv-Wj4TUf6mM",
        "outputId": "54ca21ff-23ac-4c4b-acde-4de67fb6a7bc"
      },
      "execution_count": 6,
      "outputs": [
        {
          "output_type": "execute_result",
          "data": {
            "text/plain": [
              "[Text(0.4, 0.875, 'Rank <= 6.5\\ngini = 0.497\\nsamples = 13\\nvalue = [6, 7]'),\n",
              " Text(0.2, 0.625, 'gini = 0.0\\nsamples = 5\\nvalue = [5, 0]'),\n",
              " Text(0.6, 0.625, 'Age <= 39.5\\ngini = 0.219\\nsamples = 8\\nvalue = [1, 7]'),\n",
              " Text(0.4, 0.375, 'Age <= 35.5\\ngini = 0.375\\nsamples = 4\\nvalue = [1, 3]'),\n",
              " Text(0.2, 0.125, 'gini = 0.0\\nsamples = 3\\nvalue = [0, 3]'),\n",
              " Text(0.6, 0.125, 'gini = 0.0\\nsamples = 1\\nvalue = [1, 0]'),\n",
              " Text(0.8, 0.375, 'gini = 0.0\\nsamples = 4\\nvalue = [0, 4]')]"
            ]
          },
          "metadata": {},
          "execution_count": 6
        },
        {
          "output_type": "display_data",
          "data": {
            "text/plain": [
              "<Figure size 432x288 with 1 Axes>"
            ],
            "image/png": "[encoded data removed]"
          },
          "metadata": {
            "needs_background": "light"
          }
        }
      ]
    }
  ]
}